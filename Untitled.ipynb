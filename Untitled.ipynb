{
 "cells": [
  {
   "cell_type": "code",
   "execution_count": null,
   "id": "094bc0aa",
   "metadata": {},
   "outputs": [],
   "source": [
    "import cv2\n",
    "import numpy as np\n",
    "\n",
    "def dark_channel(image, window_size=15):\n",
    "    min_channel = np.min(image, axis=2)\n",
    "    return cv2.erode(min_channel, np.ones((window_size, window_size)))\n",
    "\n",
    "def estimate_atmosphere(image, dark_channel, percentile=0.001):\n",
    "    flat_dark_channel = dark_channel.flatten()\n",
    "    flat_image = image.reshape(-1, 3)\n",
    "    num_pixels = flat_image.shape[0]\n",
    "    num_pixels_to_keep = int(num_pixels * percentile)\n",
    "    indices = np.argpartition(flat_dark_channel, -num_pixels_to_keep)[-num_pixels_to_keep:]\n",
    "    atmosphere = np.max(flat_image[indices], axis=0)\n",
    "    return atmosphere\n",
    "\n",
    "def dehaze(image, tmin=0.6, omega=0.99, window_size=10):\n",
    "    if image is None:\n",
    "        return None\n",
    "\n",
    "    image = image.astype(np.float64) / 255.0\n",
    "    dark_ch = dark_channel(image, window_size)\n",
    "    atmosphere = estimate_atmosphere(image, dark_ch)\n",
    "    transmission = 1 - omega * dark_ch\n",
    "    transmission = np.maximum(transmission, tmin)\n",
    "    dehazed = np.zeros_like(image)\n",
    "\n",
    "    for channel in range(3):\n",
    "        dehazed[:, :, channel] = (image[:, :, channel] - atmosphere[channel]) / transmission + atmosphere[channel]\n",
    "\n",
    "    dehazed = np.clip(dehazed, 0, 1)\n",
    "    dehazed = (dehazed * 255).astype(np.uint8)\n",
    "\n",
    "    return dehazed\n",
    "\n",
    "if __name__ == \"__main__\":\n",
    "    # Specify the path to your image file\n",
    "    image_path = r'C:\\Users\\00006_h.jpg'\n",
    "\n",
    "    # Attempt to load the image\n",
    "    input_image = cv2.imread(image_path)\n",
    "\n",
    "    # Check if the image was loaded successfully\n",
    "    if input_image is not None:\n",
    "        # Apply dehazing\n",
    "        output_image = dehaze(input_image)\n",
    "\n",
    "        if output_image is not None:\n",
    "            # Save the dehazed image with the desired output path and filename\n",
    "            cv2.imwrite('output.jpg', output_image)\n",
    "    # Display the dehazed image\n",
    "            cv2.imshow('Dehazed Image', output_image)\n",
    "            cv2.waitKey(0)\n",
    "            cv2.destroyAllWindows()\n",
    "        else:\n",
    "            print(\"Error: Failed to dehaze the image.\")\n",
    "    else:\n",
    "        # The image loading failed\n",
    "        print(\"Error: Could not load the input image.\")"
   ]
  },
  {
   "cell_type": "code",
   "execution_count": null,
   "id": "1e956fc2",
   "metadata": {},
   "outputs": [],
   "source": []
  },
  {
   "cell_type": "code",
   "execution_count": null,
   "id": "e687de7f",
   "metadata": {},
   "outputs": [],
   "source": []
  }
 ],
 "metadata": {
  "kernelspec": {
   "display_name": "Python 3 (ipykernel)",
   "language": "python",
   "name": "python3"
  },
  "language_info": {
   "codemirror_mode": {
    "name": "ipython",
    "version": 3
   },
   "file_extension": ".py",
   "mimetype": "text/x-python",
   "name": "python",
   "nbconvert_exporter": "python",
   "pygments_lexer": "ipython3",
   "version": "3.11.5"
  }
 },
 "nbformat": 4,
 "nbformat_minor": 5
}
